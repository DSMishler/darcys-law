{
  "metadata": {
    "language_info": {
      "codemirror_mode": {
        "name": "python",
        "version": 3
      },
      "file_extension": ".py",
      "mimetype": "text/x-python",
      "name": "python",
      "nbconvert_exporter": "python",
      "pygments_lexer": "ipython3",
      "version": "3.8"
    },
    "kernelspec": {
      "name": "python",
      "display_name": "Python (Pyodide)",
      "language": "python"
    }
  },
  "nbformat_minor": 4,
  "nbformat": 4,
  "cells": [
    {
      "cell_type": "code",
      "source": "# flow (cc/second) = k(d) x area(cm^2) / viscosity (cP) * (deltap)(atm) / cake depth (cm)",
      "metadata": {
        "trusted": true
      },
      "execution_count": null,
      "outputs": []
    },
    {
      "cell_type": "code",
      "source": "# f: flow\n# k: permeability\n# a: area\n# u: viscosity\n# p: pressure difference\n# l: cake depth\n\n# 1 = kap/ful",
      "metadata": {},
      "execution_count": null,
      "outputs": []
    },
    {
      "cell_type": "code",
      "source": "f = None\nk = 3\na = 1\nu = 1\np = 1\nl = 1",
      "metadata": {
        "trusted": true
      },
      "execution_count": null,
      "outputs": []
    },
    {
      "cell_type": "code",
      "source": "# rely on globals, no passing parameters\ndef solve_for_f():\n    return (k*a*p/u/l)\ndef solve_for_u():\n    return (k*a*p/f/l)\ndef solve_for_l():\n    return (k*a*p/f/u)\ndef solve_for_k():\n    return (f*u*l/a/p)\ndef solve_for_a():\n    return (f*u*l/k/p)\ndef solve_for_p():\n    return (f*u*l/k/a)",
      "metadata": {
        "trusted": true
      },
      "execution_count": null,
      "outputs": []
    },
    {
      "cell_type": "code",
      "source": "def solve_missing_piece(f,k,a,u,p,l):\n    if f is None:\n        f = solve_for_f()\n        print(f\"f={f}\")\n    elif k is None:\n        k = solve_for_k()\n        print(f\"k={k}\")\n    elif a is None:\n        a = solve_for_a()\n        print(f\"a={a}\")\n    elif u is None:\n        u = solve_for_u()\n        print(f\"u={u}\")\n    elif l is None:\n        l = solve_for_l()\n        print(f\"l={l}\")\n    elif p is None:\n        p = solve_for_p()\n        print(f\"p={p}\")\n    else:\n        print(\"All variables are set. Set one to 'None' if you want it solved for.\")",
      "metadata": {
        "trusted": true
      },
      "execution_count": null,
      "outputs": []
    },
    {
      "cell_type": "code",
      "source": "solve_missing_piece(f,k,a,u,p,l)",
      "metadata": {
        "trusted": true
      },
      "execution_count": null,
      "outputs": []
    }
  ]
}